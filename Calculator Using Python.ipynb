{
 "cells": [
  {
   "cell_type": "markdown",
   "metadata": {},
   "source": [
    "# CALCULATOR "
   ]
  },
  {
   "cell_type": "code",
   "execution_count": 5,
   "metadata": {},
   "outputs": [],
   "source": [
    "from tkinter import*\n",
    "\n",
    "root = Tk()\n",
    "root.title(\"My First Software\")\n",
    "root.minsize(width=364, height=523)\n",
    "root.maxsize(width=364, height=523)\n",
    "\n",
    "def ScitechzCalc(source, side):\n",
    "    storeObj = Frame (source, borderwidth=4, bd=4, bg=\"cornsilk4\")\n",
    "    storeObj.pack(side=side, expand=YES, fill=BOTH)\n",
    "    return storeObj\n",
    "\n",
    "def button(source, side, text, command=None):\n",
    "    storeObj = Button(source, bg=\"cornsilk2\", fg=\"black\", text=text, command=command)\n",
    "    storeObj.pack(side=side, expand=YES, fill=BOTH)\n",
    "    return storeObj\n",
    "\n",
    "class app(Frame):\n",
    "    def __init__(self):\n",
    "        Frame. __init__(self)\n",
    "        self.option_add('*Font', 'Helvetica 22 italic', )\n",
    "        self.pack(expand=YES, fill=BOTH)\n",
    "\n",
    "\n",
    "        display = StringVar()\n",
    "        Entry(self, relief=RIDGE,\n",
    "                textvariable=display,justify='right',bd=26,fg=\"white\",bg=\"cornsilk4\").pack(side=TOP, expand=YES,\n",
    "                        fill=BOTH)\n",
    "\n",
    "        for clearBut in([\"CLEAR\"],):\n",
    "            erase = ScitechzCalc(self, TOP)\n",
    "            for ichar in clearBut:\n",
    "                button(erase, LEFT, ichar,\n",
    "                       lambda storeObj=display, q=ichar: storeObj.set(''))\n",
    "\n",
    "        for NumBut in (\"789/\", \"456*\", \"123-\", \"0.+\"):\n",
    "            FunctionNum = ScitechzCalc(self, TOP)\n",
    "            for char in NumBut:\n",
    "                button(FunctionNum, LEFT, char,\n",
    "                       lambda storeObj=display, q=char: storeObj.set(storeObj.get() + q))\n",
    "\n",
    "        EqualsButton = ScitechzCalc(self, TOP)\n",
    "        for iEquals in \"=\":\n",
    "            if iEquals == '=':\n",
    "                btniEquals = button(EqualsButton, LEFT, iEquals)\n",
    "                btniEquals.bind('<ButtonRelease-1>',\n",
    "                         lambda e, s=self, storeObj=display: s.calc(storeObj), '+')\n",
    "            else:\n",
    "                btniEquals = button(EqualsButton, LEFT, iEquals,\n",
    "                   lambda storeObj=display, s=' %s '%iEquals: storeObj.set(storeObj.get()+s))\n",
    "       \n",
    "\n",
    "    def calc(self, display):\n",
    "        try:\n",
    "            display.set(eval(display.get()))\n",
    "        except:\n",
    "            display.set(\"::Error::\")\n",
    "\n",
    "if __name__ == '__main__':\n",
    "    app().mainloop()                                              \n",
    "\n"
   ]
  },
  {
   "cell_type": "code",
   "execution_count": null,
   "metadata": {},
   "outputs": [],
   "source": []
  },
  {
   "cell_type": "code",
   "execution_count": null,
   "metadata": {},
   "outputs": [],
   "source": []
  },
  {
   "cell_type": "code",
   "execution_count": null,
   "metadata": {},
   "outputs": [],
   "source": []
  },
  {
   "cell_type": "code",
   "execution_count": null,
   "metadata": {},
   "outputs": [],
   "source": []
  },
  {
   "cell_type": "code",
   "execution_count": null,
   "metadata": {},
   "outputs": [],
   "source": []
  },
  {
   "cell_type": "code",
   "execution_count": null,
   "metadata": {},
   "outputs": [],
   "source": []
  },
  {
   "cell_type": "code",
   "execution_count": null,
   "metadata": {},
   "outputs": [],
   "source": []
  },
  {
   "cell_type": "code",
   "execution_count": null,
   "metadata": {},
   "outputs": [],
   "source": []
  },
  {
   "cell_type": "code",
   "execution_count": null,
   "metadata": {},
   "outputs": [],
   "source": []
  }
 ],
 "metadata": {
  "kernelspec": {
   "display_name": "Python 3",
   "language": "python",
   "name": "python3"
  },
  "language_info": {
   "codemirror_mode": {
    "name": "ipython",
    "version": 3
   },
   "file_extension": ".py",
   "mimetype": "text/x-python",
   "name": "python",
   "nbconvert_exporter": "python",
   "pygments_lexer": "ipython3",
   "version": "3.7.6"
  }
 },
 "nbformat": 4,
 "nbformat_minor": 4
}
